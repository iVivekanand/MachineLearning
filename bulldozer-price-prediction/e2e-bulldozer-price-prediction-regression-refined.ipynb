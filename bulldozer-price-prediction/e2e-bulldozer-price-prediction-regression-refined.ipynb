{
 "cells": [
  {
   "cell_type": "code",
   "execution_count": 1,
   "metadata": {
    "_cell_guid": "b1076dfc-b9ad-4769-8c92-a6c4dae69d19",
    "_uuid": "8f2839f25d086af736a60e9eeb907d3b93b6e0e5"
   },
   "outputs": [
    {
     "name": "stdout",
     "output_type": "stream",
     "text": [
      "/kaggle/input/bluebook-for-bulldozers/random_forest_benchmark_test.csv\n",
      "/kaggle/input/bluebook-for-bulldozers/TrainAndValid.zip\n",
      "/kaggle/input/bluebook-for-bulldozers/ValidSolution.csv\n",
      "/kaggle/input/bluebook-for-bulldozers/TrainAndValid.csv\n",
      "/kaggle/input/bluebook-for-bulldozers/Valid.7z\n",
      "/kaggle/input/bluebook-for-bulldozers/Valid.zip\n",
      "/kaggle/input/bluebook-for-bulldozers/median_benchmark.csv\n",
      "/kaggle/input/bluebook-for-bulldozers/Valid.csv\n",
      "/kaggle/input/bluebook-for-bulldozers/Test.csv\n",
      "/kaggle/input/bluebook-for-bulldozers/Data Dictionary.xlsx\n",
      "/kaggle/input/bluebook-for-bulldozers/Train.zip\n",
      "/kaggle/input/bluebook-for-bulldozers/Train.7z\n",
      "/kaggle/input/bluebook-for-bulldozers/TrainAndValid.7z\n",
      "/kaggle/input/bluebook-for-bulldozers/Machine_Appendix.csv\n"
     ]
    }
   ],
   "source": [
    "# This Python 3 environment comes with many helpful analytics libraries installed\n",
    "# It is defined by the kaggle/python docker image: https://github.com/kaggle/docker-python\n",
    "# For example, here's several helpful packages to load in \n",
    "\n",
    "import numpy as np # linear algebra\n",
    "import pandas as pd # data processing, CSV file I/O (e.g. pd.read_csv)\n",
    "\n",
    "# Input data files are available in the \"../input/\" directory.\n",
    "# For example, running this (by clicking run or pressing Shift+Enter) will list all files under the input directory\n",
    "\n",
    "import os\n",
    "for dirname, _, filenames in os.walk('/kaggle/input'):\n",
    "    for filename in filenames:\n",
    "        print(os.path.join(dirname, filename))\n",
    "\n",
    "# Any results you write to the current directory are saved as output."
   ]
  },
  {
   "cell_type": "markdown",
   "metadata": {
    "_cell_guid": "79c7e3d0-c299-4dcb-8224-4455121ee9b0",
    "_uuid": "d629ff2d2480ee46fbb7e2d37f6b5fab8052498a",
    "collapsed": true
   },
   "source": [
    "# Predicting sale price of bulldozers using ML\n",
    "\n",
    "In this notebook, we are going to go through an example ML project with the goal of predicting sale price of bulldozers.\n",
    "\n",
    "## 1. Problem definition\n",
    "\n",
    "> How well can we predict future sale price given its characteristics and previous examples of how much similar bulldozers have been sold for?\n",
    "\n",
    "## 2. Data\n",
    "\n",
    "The data is downloaded from Kaggle Bluebook for Bulldozers competition.\n",
    "\n",
    "There are 3 main datasets:\n",
    "\n",
    "* Train.csv is the training set, which contains data through the end of 2011.\n",
    "* Valid.csv is the validation set, which contains data from January 1, 2012 - April 30, 2012 You make predictions on this set throughout the majority of the competition. Your score on this set is used to create the public leaderboard.\n",
    "* Test.csv is the test set, which won't be released until the last week of the competition. It contains data from May 1, 2012 - November 2012. Your score on the test set determines your final rank for the competition.\n",
    "\n",
    "## 3. Evaluation\n",
    "\n",
    "The evaluation metric for this competition is the RMSLE (root mean squared log error) between the actual and predicted auction prices.\n",
    "\n",
    "For mode details refer https://www.kaggle.com/c/bluebook-for-bulldozers/overview/evaluation\n",
    "\n",
    "**Note**: The goal for most regression evaluation metrics is to minimize error. For instance, our goal here will be to minimize RMSLE.\n",
    "\n",
    "## 4. Features\n",
    "\n",
    "Kaggle provides a data dictionary detailing all features of the dataset. https://www.kaggle.com/c/bluebook-for-bulldozers/data"
   ]
  },
  {
   "cell_type": "code",
   "execution_count": 2,
   "metadata": {},
   "outputs": [],
   "source": [
    "import numpy as np\n",
    "import pandas as pd\n",
    "import matplotlib.pyplot as plt\n",
    "import sklearn\n",
    "from sklearn.model_selection import RandomizedSearchCV\n",
    "from sklearn.ensemble import RandomForestRegressor"
   ]
  },
  {
   "cell_type": "code",
   "execution_count": 3,
   "metadata": {},
   "outputs": [],
   "source": [
    "# We have non-numeric as well as empty data in our dataset. Let's clean them up to avoid model fit errors.\n",
    "def preprocess_data(df):\n",
    "    \"\"\"\n",
    "    Performs transformation on df to match ideal_model\n",
    "    \"\"\"\n",
    "    df[\"saleyear\"] = df.saledate.dt.year\n",
    "    df[\"salemonth\"] = df.saledate.dt.month\n",
    "    df[\"saleday\"] = df.saledate.dt.day\n",
    "    df[\"saledayofweek\"] = df.saledate.dt.dayofweek\n",
    "    df[\"saledayofyear\"] = df.saledate.dt.dayofyear\n",
    "    \n",
    "    df.drop(\"saledate\", axis=1, inplace=True)\n",
    "    \n",
    "    # Fill numeric rows with median\n",
    "    for label, content in df.items():\n",
    "        #if pd.api.types.is_string_dtype(content):\n",
    "            #df_tmp[label] = content.astype(\"category\").cat.as_ordered()\n",
    "        if pd.api.types.is_numeric_dtype(content):\n",
    "            if pd.isnull(content).sum():\n",
    "                # Add binary column which signifies if data is missing\n",
    "                df[label+\"_is_missing\"] = pd.isnull(content)\n",
    "                # Fill missing values with median\n",
    "                df[label] = content.fillna(content.median())\n",
    "\n",
    "        # Fill missing categorical data and convert them to numbers\n",
    "        if not pd.api.types.is_numeric_dtype(content):\n",
    "            # Add binary column to indicate missing value\n",
    "            df[label+\"_is_missing\"] = pd.isnull(content)\n",
    "            # Convent to number and add 1\n",
    "            df[label] = pd.Categorical(content).codes + 1\n",
    "        \n",
    "    return df"
   ]
  },
  {
   "cell_type": "code",
   "execution_count": null,
   "metadata": {},
   "outputs": [],
   "source": []
  },
  {
   "cell_type": "code",
   "execution_count": 4,
   "metadata": {},
   "outputs": [
    {
     "data": {
      "text/plain": [
       "((401125, 102), (401125,), (11573, 102), (11573,))"
      ]
     },
     "execution_count": 4,
     "metadata": {},
     "output_type": "execute_result"
    }
   ],
   "source": [
    "df_tmp = pd.read_csv(\"/kaggle/input/bluebook-for-bulldozers/TrainAndValid.csv\",\n",
    "                low_memory=False,\n",
    "                parse_dates=[\"saledate\"])\n",
    "\n",
    "df_tmp = preprocess_data(df_tmp)\n",
    "\n",
    "df_val = df_tmp[df_tmp.saleyear == 2012]\n",
    "df_train = df_tmp[df_tmp.saleyear != 2012]\n",
    "\n",
    "# Split X & y\n",
    "X_train, y_train = df_train.drop(\"SalePrice\", axis=1), df_train.SalePrice\n",
    "X_valid, y_valid = df_val.drop(\"SalePrice\", axis=1), df_val.SalePrice\n",
    "\n",
    "X_train.shape, y_train.shape, X_valid.shape, y_valid.shape"
   ]
  },
  {
   "cell_type": "code",
   "execution_count": 5,
   "metadata": {},
   "outputs": [],
   "source": [
    "# Create evaluation function (RMSLE)\n",
    "from sklearn.metrics import mean_squared_log_error, mean_absolute_error, r2_score\n",
    "\n",
    "def rmsle(y_test, y_preds):\n",
    "    \"\"\"\n",
    "    Calculate root mean squared log error between predictions and actuals\n",
    "    \"\"\"\n",
    "    return np.sqrt(mean_squared_log_error(y_test, y_preds))\n",
    "\n",
    "# Create function to evaluate model on different levels\n",
    "def show_scores(model):\n",
    "    train_preds = model.predict(X_train)\n",
    "    valid_preds = model.predict(X_valid)\n",
    "    scores = {\"Training MAE\": mean_absolute_error(y_train, train_preds),\n",
    "             \"Valid MAE\": mean_absolute_error(y_valid, valid_preds),\n",
    "             \"Training RMSLE\": rmsle(y_train, train_preds),\n",
    "             \"Valid RMSLE\": rmsle(y_valid, valid_preds),\n",
    "             \"Training R^2\": r2_score(y_train, train_preds),\n",
    "              \"Valid R^2\": r2_score(y_valid, valid_preds)}\n",
    "    return scores"
   ]
  },
  {
   "cell_type": "code",
   "execution_count": 6,
   "metadata": {},
   "outputs": [],
   "source": [
    "# %%time\n",
    "# from sklearn.model_selection import RandomizedSearchCV\n",
    "# from sklearn.ensemble import RandomForestRegressor\n",
    "\n",
    "# # Different RandomForestRegressor hyperparameters\n",
    "# rf_grid = {\"n_estimators\": np.arange(10, 100, 1),\n",
    "#           \"max_depth\": [None, 1, 2, 3, 4, 5, 6, 7, 8, 9, 10, 20, 30, 40, 50, 100],\n",
    "#           \"min_samples_split\": np.arange(2, 20, 2),\n",
    "#           \"min_samples_leaf\": np.arange(1, 20, 2),\n",
    "#           \"max_features\": [0.5, 1, \"sqrt\", \"auto\"],\n",
    "#           \"max_samples\": [10000],\n",
    "#           \"bootstrap\": [True, False]}\n",
    "\n",
    "# # Instantiate RandomizedSearchCV model\n",
    "# rs_model = RandomizedSearchCV(RandomForestRegressor(n_jobs=3, random_state=654),\n",
    "#                               param_distributions=rf_grid,\n",
    "#                               n_iter=10,\n",
    "#                               cv=5,\n",
    "#                               verbose=True)\n",
    "\n",
    "# # Fit model\n",
    "# rs_model.fit(X_train, y_train)\n",
    "\n",
    "# # Get best params from RandomSearchCV\n",
    "# rs_model.best_params_"
   ]
  },
  {
   "cell_type": "code",
   "execution_count": 7,
   "metadata": {},
   "outputs": [
    {
     "name": "stdout",
     "output_type": "stream",
     "text": [
      "CPU times: user 7min 42s, sys: 2.21 s, total: 7min 44s\n",
      "Wall time: 3min 58s\n"
     ]
    },
    {
     "data": {
      "text/plain": [
       "{'Training MAE': 2802.4193843699104,\n",
       " 'Valid MAE': 5858.323752665141,\n",
       " 'Training RMSLE': 0.1390658780673268,\n",
       " 'Valid RMSLE': 0.2398691573479299,\n",
       " 'Training R^2': 0.9609532999200525,\n",
       " 'Valid R^2': 0.8828189680139681}"
      ]
     },
     "execution_count": 7,
     "metadata": {},
     "output_type": "execute_result"
    }
   ],
   "source": [
    "%%time\n",
    "best_model = RandomForestRegressor(n_estimators=96,\n",
    "                                    min_samples_leaf=7,\n",
    "                                    min_samples_split=10,\n",
    "                                    max_features=0.5,\n",
    "                                    n_jobs=2,\n",
    "                                    max_samples=10000,\n",
    "                                    max_depth=40,\n",
    "                                    bootstrap=False)\n",
    "best_model.fit(X_train, y_train)\n",
    "\n",
    "show_scores(best_model)"
   ]
  },
  {
   "cell_type": "code",
   "execution_count": 8,
   "metadata": {},
   "outputs": [
    {
     "data": {
      "text/html": [
       "<div>\n",
       "<style scoped>\n",
       "    .dataframe tbody tr th:only-of-type {\n",
       "        vertical-align: middle;\n",
       "    }\n",
       "\n",
       "    .dataframe tbody tr th {\n",
       "        vertical-align: top;\n",
       "    }\n",
       "\n",
       "    .dataframe thead th {\n",
       "        text-align: right;\n",
       "    }\n",
       "</style>\n",
       "<table border=\"1\" class=\"dataframe\">\n",
       "  <thead>\n",
       "    <tr style=\"text-align: right;\">\n",
       "      <th></th>\n",
       "      <th>SalesID</th>\n",
       "      <th>SalesPrice</th>\n",
       "    </tr>\n",
       "  </thead>\n",
       "  <tbody>\n",
       "    <tr>\n",
       "      <th>0</th>\n",
       "      <td>1227829</td>\n",
       "      <td>19226.200088</td>\n",
       "    </tr>\n",
       "    <tr>\n",
       "      <th>1</th>\n",
       "      <td>1227844</td>\n",
       "      <td>20127.689884</td>\n",
       "    </tr>\n",
       "    <tr>\n",
       "      <th>2</th>\n",
       "      <td>1227847</td>\n",
       "      <td>49638.635424</td>\n",
       "    </tr>\n",
       "    <tr>\n",
       "      <th>3</th>\n",
       "      <td>1227848</td>\n",
       "      <td>66694.162399</td>\n",
       "    </tr>\n",
       "    <tr>\n",
       "      <th>4</th>\n",
       "      <td>1227863</td>\n",
       "      <td>42795.730762</td>\n",
       "    </tr>\n",
       "    <tr>\n",
       "      <th>...</th>\n",
       "      <td>...</td>\n",
       "      <td>...</td>\n",
       "    </tr>\n",
       "    <tr>\n",
       "      <th>12452</th>\n",
       "      <td>6643171</td>\n",
       "      <td>45452.930620</td>\n",
       "    </tr>\n",
       "    <tr>\n",
       "      <th>12453</th>\n",
       "      <td>6643173</td>\n",
       "      <td>12911.289318</td>\n",
       "    </tr>\n",
       "    <tr>\n",
       "      <th>12454</th>\n",
       "      <td>6643184</td>\n",
       "      <td>13940.350770</td>\n",
       "    </tr>\n",
       "    <tr>\n",
       "      <th>12455</th>\n",
       "      <td>6643186</td>\n",
       "      <td>16989.723133</td>\n",
       "    </tr>\n",
       "    <tr>\n",
       "      <th>12456</th>\n",
       "      <td>6643196</td>\n",
       "      <td>25490.293152</td>\n",
       "    </tr>\n",
       "  </tbody>\n",
       "</table>\n",
       "<p>12457 rows × 2 columns</p>\n",
       "</div>"
      ],
      "text/plain": [
       "       SalesID    SalesPrice\n",
       "0      1227829  19226.200088\n",
       "1      1227844  20127.689884\n",
       "2      1227847  49638.635424\n",
       "3      1227848  66694.162399\n",
       "4      1227863  42795.730762\n",
       "...        ...           ...\n",
       "12452  6643171  45452.930620\n",
       "12453  6643173  12911.289318\n",
       "12454  6643184  13940.350770\n",
       "12455  6643186  16989.723133\n",
       "12456  6643196  25490.293152\n",
       "\n",
       "[12457 rows x 2 columns]"
      ]
     },
     "execution_count": 8,
     "metadata": {},
     "output_type": "execute_result"
    }
   ],
   "source": [
    "# Make predictions on test data\n",
    "# Import test data\n",
    "df_test = pd.read_csv(\"/kaggle/input/bluebook-for-bulldozers/Test.csv\", low_memory=False,\n",
    "                      parse_dates=[\"saledate\"])\n",
    "\n",
    "df_test = preprocess_data(df_test)\n",
    "\n",
    "# We can find how columsn differ using sets\n",
    "# set(X_train.columns) - set(df_test.columns)\n",
    "\n",
    "# Add df_test to include auctioneerID_is_missing\n",
    "df_test[\"auctioneerID_is_missing\"] = False\n",
    "\n",
    "# Predict using ideal model\n",
    "test_preds = best_model.predict(df_test)\n",
    "\n",
    "# Format predictions as per Kaggle requirements\n",
    "df_preds = pd.DataFrame()\n",
    "df_preds[\"SalesID\"] = df_test[\"SalesID\"]\n",
    "df_preds[\"SalesPrice\"] = test_preds\n",
    "df_preds\n",
    "\n",
    "# Export prediction data\n",
    "#df_preds.to_csv(\"/kaggle/input/bluebook-for-bulldozers/test_predictions.csv\")"
   ]
  },
  {
   "cell_type": "code",
   "execution_count": null,
   "metadata": {},
   "outputs": [],
   "source": []
  }
 ],
 "metadata": {
  "kernelspec": {
   "display_name": "Python 3",
   "language": "python",
   "name": "python3"
  },
  "language_info": {
   "codemirror_mode": {
    "name": "ipython",
    "version": 3
   },
   "file_extension": ".py",
   "mimetype": "text/x-python",
   "name": "python",
   "nbconvert_exporter": "python",
   "pygments_lexer": "ipython3",
   "version": "3.6.6"
  }
 },
 "nbformat": 4,
 "nbformat_minor": 4
}
